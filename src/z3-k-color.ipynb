{
 "nbformat": 4,
 "nbformat_minor": 2,
 "metadata": {
  "language_info": {
   "name": "python",
   "codemirror_mode": {
    "name": "ipython",
    "version": 3
   },
   "version": "3.6.8-final"
  },
  "orig_nbformat": 2,
  "file_extension": ".py",
  "mimetype": "text/x-python",
  "name": "python",
  "npconvert_exporter": "python",
  "pygments_lexer": "ipython3",
  "version": 3,
  "kernelspec": {
   "name": "28bd451f-2b86-42dc-97f3-79553a06e4b8",
   "display_name": "'Python Interactive'"
  }
 },
 "cells": [
  {
   "cell_type": "code",
   "execution_count": 11,
   "metadata": {},
   "outputs": [
    {
     "output_type": "error",
     "ename": "NameError",
     "evalue": "name 'umc' is not defined",
     "traceback": [
      "\u001b[1;31m---------------------------------------------------------------------------\u001b[0m",
      "\u001b[1;31mNameError\u001b[0m                                 Traceback (most recent call last)",
      "\u001b[1;32m<ipython-input-11-f0aa3378a464>\u001b[0m in \u001b[0;36m<module>\u001b[1;34m\u001b[0m\n\u001b[0;32m     45\u001b[0m \u001b[1;32mfor\u001b[0m \u001b[0mu\u001b[0m\u001b[1;33m,\u001b[0m\u001b[0mv\u001b[0m \u001b[1;32min\u001b[0m \u001b[0medges\u001b[0m\u001b[1;33m:\u001b[0m\u001b[1;33m\u001b[0m\u001b[1;33m\u001b[0m\u001b[0m\n\u001b[0;32m     46\u001b[0m     \u001b[1;32mfor\u001b[0m \u001b[0mc\u001b[0m \u001b[1;32min\u001b[0m \u001b[0mcolors\u001b[0m\u001b[1;33m:\u001b[0m\u001b[1;33m\u001b[0m\u001b[1;33m\u001b[0m\u001b[0m\n\u001b[1;32m---> 47\u001b[1;33m         \u001b[0msolver\u001b[0m\u001b[1;33m.\u001b[0m\u001b[0madd\u001b[0m\u001b[1;33m(\u001b[0m\u001b[0mz3\u001b[0m\u001b[1;33m.\u001b[0m\u001b[0mOr\u001b[0m\u001b[1;33m(\u001b[0m\u001b[0mz3\u001b[0m\u001b[1;33m.\u001b[0m\u001b[0mNot\u001b[0m\u001b[1;33m(\u001b[0m\u001b[0mvars\u001b[0m\u001b[1;33m[\u001b[0m\u001b[0mvarnum\u001b[0m\u001b[1;33m(\u001b[0m\u001b[0mumc\u001b[0m\u001b[1;33m)\u001b[0m\u001b[1;33m]\u001b[0m\u001b[1;33m,\u001b[0m\u001b[0mz3\u001b[0m\u001b[1;33m.\u001b[0m\u001b[0mNot\u001b[0m\u001b[1;33m(\u001b[0m\u001b[0mvars\u001b[0m\u001b[1;33m[\u001b[0m\u001b[0mvarnum\u001b[0m\u001b[1;33m(\u001b[0m\u001b[0mv\u001b[0m\u001b[1;33m,\u001b[0m\u001b[0mc\u001b[0m\u001b[1;33m)\u001b[0m\u001b[1;33m]\u001b[0m\u001b[1;33m)\u001b[0m\u001b[1;33m)\u001b[0m\u001b[1;33m)\u001b[0m\u001b[1;33m)\u001b[0m\u001b[1;33m\u001b[0m\u001b[1;33m\u001b[0m\u001b[0m\n\u001b[0m\u001b[0;32m     48\u001b[0m         \u001b[1;31m#print(\"(assert (or (not x{}) (not x{})))\".format(varnum(u,c),varnum(v,c)))\u001b[0m\u001b[1;33m\u001b[0m\u001b[1;33m\u001b[0m\u001b[1;33m\u001b[0m\u001b[0m\n\u001b[0;32m     49\u001b[0m \u001b[1;33m\u001b[0m\u001b[0m\n",
      "\u001b[1;31mNameError\u001b[0m: name 'umc' is not defined"
     ]
    }
   ],
   "source": [
    "import itertools\n",
    "import os\n",
    "import z3\n",
    "\n",
    "f=open(\"graph1.txt\",\"r\")\n",
    "n=int((f.readline()).split()[0])\n",
    "rest=f.read()\n",
    "lines=rest.splitlines()\n",
    "edges=[tuple(map(int,line.split())) for line in lines]\n",
    "\n",
    "\n",
    "colors=range(0,3)\n",
    "if len(colors)==3:\n",
    "  color_names=[\"Red\",\"Green\",\"Blue\"]\n",
    "#number of nodes times the number of colors\n",
    "nvars=n*len(colors)\n",
    "vars=[None]*nvars\n",
    "\n",
    "solver=z3.Solver()\n",
    "color_names=None\n",
    "\n",
    "\n",
    "def varnum(i,j):\n",
    "    assert(i in range(0,n) and j in colors)\n",
    "    return len(colors)*i+j\n",
    "\n",
    "# define variables\n",
    "for i in range(0,n):\n",
    "    for j in colors:\n",
    "        #print(\"(declare-const x{} Bool)\".format(varnum(i,j)))\n",
    "        vars[varnum(i,j)]=z3.Bool(\"x\"+str(i))\n",
    "\n",
    "\n",
    "def exactly_one_of(literals):\n",
    "    #print(\"(assert (or x{}))\".format(\" x\".join(map(str,literals))))\n",
    "    solver.add(z3.Or([vars[l] for l in literals]))\n",
    "    for a,b in itertools.combinations(literals,2):\n",
    "       # print(\"(assert (or (not x{}) (not x{})))\".format(str(a),str(b)))\n",
    "        solver.add(z3.Or(z3.Not(vars[a]),z3.Not(vars[b])))\n",
    "\n",
    "#constraints for each node\n",
    "for node in range(0,n):\n",
    "    exactly_one_of([varnum(node,color) for color in colors])\n",
    "\n",
    "for u,v in edges:\n",
    "    for c in colors:\n",
    "        solver.add(z3.Or(z3.Not(vars[varnum(u,c)],z3.Not(vars[varnum(v,c)]))))\n",
    "        #print(\"(assert (or (not x{}) (not x{})))\".format(varnum(u,c),varnum(v,c)))\n",
    "\n",
    "print(solver.check())\n",
    "#print(solver.model())"
   ]
  },
  {
   "cell_type": "code",
   "execution_count": null,
   "metadata": {},
   "outputs": [],
   "source": []
  }
 ]
}